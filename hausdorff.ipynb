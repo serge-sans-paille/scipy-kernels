{
 "cells": [
  {
   "cell_type": "code",
   "execution_count": 1,
   "metadata": {},
   "outputs": [
    {
     "name": "stderr",
     "output_type": "stream",
     "text": [
      "WARNING: Disabling color, you really want to install colorlog.\n",
      "WARNING: Pythran support disabled for module: scipy.special\n",
      "WARNING: Pythran support disabled for module: scipy\n"
     ]
    }
   ],
   "source": [
    "%load_ext cython"
   ]
  },
  {
   "cell_type": "code",
   "execution_count": 2,
   "metadata": {},
   "outputs": [],
   "source": [
    "import pythran\n",
    "%load_ext pythran.magic"
   ]
  },
  {
   "cell_type": "code",
   "execution_count": 3,
   "metadata": {},
   "outputs": [],
   "source": [
    "import numpy as np"
   ]
  },
  {
   "cell_type": "code",
   "execution_count": 4,
   "metadata": {},
   "outputs": [],
   "source": [
    "from numba import jit, njit"
   ]
  },
  {
   "cell_type": "markdown",
   "metadata": {},
   "source": [
    "# hausdorff"
   ]
  },
  {
   "cell_type": "markdown",
   "metadata": {},
   "source": [
    "## cython version"
   ]
  },
  {
   "cell_type": "code",
   "execution_count": 5,
   "metadata": {},
   "outputs": [
    {
     "name": "stdout",
     "output_type": "stream",
     "text": [
      "In file included from /home/serge/.venvs/scipy-kernels/local/lib/python2.7/site-packages/numpy/core/include/numpy/ndarraytypes.h:1816:0,\n",
      "                 from /home/serge/.venvs/scipy-kernels/local/lib/python2.7/site-packages/numpy/core/include/numpy/ndarrayobject.h:18,\n",
      "                 from /home/serge/.venvs/scipy-kernels/local/lib/python2.7/site-packages/numpy/core/include/numpy/arrayobject.h:4,\n",
      "                 from /home/serge/.cache/ipython/cython/_cython_magic_36faa5d1aaff31d80ce0c9366c635b1b.c:586:\n",
      "/home/serge/.venvs/scipy-kernels/local/lib/python2.7/site-packages/numpy/core/include/numpy/npy_1_7_deprecated_api.h:15:2: warning: #warning \"Using deprecated NumPy API, disable it by \" \"#defining NPY_NO_DEPRECATED_API NPY_1_7_API_VERSION\" [-Wcpp]\n",
      " #warning \"Using deprecated NumPy API, disable it by \" \\\n",
      "  ^~~~~~~\n"
     ]
    }
   ],
   "source": [
    "%%cython\n",
    "#\n",
    "# Copyright (C)  Tyler Reddy, Richard Gowers, and Max Linke, 2016\n",
    "#\n",
    "# Distributed under the same BSD license as Scipy.\n",
    "#\n",
    "\n",
    "from __future__ import absolute_import\n",
    "\n",
    "import numpy as np\n",
    "cimport numpy as np\n",
    "cimport cython\n",
    "from libc.math cimport sqrt\n",
    "\n",
    "\n",
    "@cython.boundscheck(False)\n",
    "def directed_hausdorff_cython(double[:,::1] ar1, double[:,::1] ar2, seed=0):\n",
    "\n",
    "    cdef double cmax, cmin, d\n",
    "    cdef bint no_break_occurred\n",
    "    cdef int N1 = ar1.shape[0]\n",
    "    cdef int N2 = ar2.shape[0]\n",
    "    cdef int data_dims = ar1.shape[1]\n",
    "    cdef unsigned int i, j, k\n",
    "    cdef unsigned int i_store = 0, j_store = 0, i_ret = 0, j_ret = 0\n",
    "    cdef long[:] resort1, resort2\n",
    "\n",
    "    # shuffling the points in each array generally increases the likelihood of\n",
    "    # an advantageous break in the inner search loop and never decreases the\n",
    "    # performance of the algorithm\n",
    "    #rng = np.random.RandomState(seed)\n",
    "    resort1 = np.arange(N1)\n",
    "    resort2 = np.arange(N2)\n",
    "    #rng.shuffle(resort1)\n",
    "    #rng.shuffle(resort2)\n",
    "    ar1 = np.asarray(ar1)[resort1]\n",
    "    ar2 = np.asarray(ar2)[resort2]\n",
    "\n",
    "    cmax = 0\n",
    "    for i in range(N1):\n",
    "        no_break_occurred = True\n",
    "        cmin = np.inf\n",
    "        for j in range(N2):\n",
    "            d = 0\n",
    "\t    # faster performance with square of distance\n",
    "\t    # avoid sqrt until very end\n",
    "            for k in range(data_dims):\n",
    "                d += (ar1[i, k] - ar2[j, k])**2\n",
    "            if d < cmax: # break out of `for j` loop\n",
    "                no_break_occurred = False\n",
    "                break\n",
    "\n",
    "            if d < cmin: # always true on first iteration of for-j loop\n",
    "                cmin = d\n",
    "                i_store = i\n",
    "                j_store = j\n",
    "\n",
    "        # always true on first iteration of for-j loop, after that only\n",
    "        # if d >= cmax\n",
    "        if cmin != np.inf and cmin > cmax and no_break_occurred == True:\n",
    "            cmax = cmin\n",
    "            i_ret = i_store\n",
    "            j_ret = j_store\n",
    "\n",
    "    return (sqrt(cmax), resort1[i_ret], resort2[j_ret])\n"
   ]
  },
  {
   "cell_type": "markdown",
   "metadata": {},
   "source": [
    "## pythran version"
   ]
  },
  {
   "cell_type": "code",
   "execution_count": 6,
   "metadata": {},
   "outputs": [],
   "source": [
    "%%pythran\n",
    "# Author: Eric Larson\n",
    "# 2014\n",
    "import numpy as np\n",
    "import numpy.random as random\n",
    "\n",
    "#pythran export directed_hausdorff_pythran(float64[:,:], float64[:,:], int)\n",
    "\n",
    "def directed_hausdorff_pythran(ar1, ar2, seed=0):\n",
    "\n",
    "    N1, data_dims = ar1.shape\n",
    "    N2 = ar2.shape[0]\n",
    "    i_store = j_store = i_ret = j_ret = 0\n",
    "\n",
    "    # shuffling the points in each array generally increases the likelihood of\n",
    "    # an advantageous break in the inner search loop and never decreases the\n",
    "    # performance of the algorithm\n",
    "    #random.seed(seed)\n",
    "    resort1 = np.arange(N1)\n",
    "    resort2 = np.arange(N2)\n",
    "    #random.shuffle(resort1)\n",
    "    #random.shuffle(resort2)\n",
    "    ar1 = np.asarray(ar1)[resort1]\n",
    "    ar2 = np.asarray(ar2)[resort2]\n",
    "\n",
    "    cmax = 0\n",
    "    for i in range(N1):\n",
    "        cmin = np.inf\n",
    "        for j in range(N2):\n",
    "            d = np.sum((ar1[i] - ar2[j]) ** 2)\n",
    "            # faster performance with square of distance\n",
    "            # avoid sqrt until very end\n",
    "            if d < cmax: # break out of `for j` loop\n",
    "                break\n",
    "\n",
    "            if d < cmin: # always true on first iteration of for-j loop\n",
    "                cmin = d\n",
    "                i_store = i\n",
    "                j_store = j\n",
    "        else:\n",
    "\n",
    "            # always true on first iteration of for-j loop, after that only\n",
    "            # if d >= cmax\n",
    "            if cmin != np.inf and cmin > cmax:\n",
    "                cmax = cmin\n",
    "                i_ret = i_store\n",
    "                j_ret = j_store\n",
    "\n",
    "    return np.sqrt(cmax), resort1[i_ret], resort2[j_ret]\n"
   ]
  },
  {
   "cell_type": "markdown",
   "metadata": {},
   "source": [
    "## numba version"
   ]
  },
  {
   "cell_type": "code",
   "execution_count": 7,
   "metadata": {},
   "outputs": [],
   "source": [
    "@njit\n",
    "def directed_hausdorff_numba(ar1, ar2, seed=0):\n",
    "\n",
    "\n",
    "    N1 = ar1.shape[0]\n",
    "    N2 = ar2.shape[0]\n",
    "    data_dims = ar1.shape[1]\n",
    "   \n",
    "    #i_store = 0\n",
    "    #j_store = 0\n",
    "    #i_ret = 0\n",
    "    #j_ret = 0\n",
    "\n",
    "    # shuffling the points in each array generally increases the likelihood of\n",
    "    # an advantageous break in the inner search loop and never decreases the\n",
    "    # performance of the algorithm\n",
    "    \n",
    "    #rng = np.random.RandomState(seed)\n",
    "    # See https://numba.pydata.org/numba-doc/dev/reference/pysupported.html#random\n",
    "    # for notes on RandomState in  Numba\n",
    "    resort1 = np.arange(N1)\n",
    "    resort2 = np.arange(N2)\n",
    "    #np.random.shuffle(resort1)\n",
    "    #np.random.shuffle(resort2)\n",
    "    ar1 = ar1[resort1]\n",
    "    ar2 = ar2[resort2]\n",
    "\n",
    "    cmax = 0\n",
    "    for i in range(N1):\n",
    "        no_break_occurred = True\n",
    "        cmin = np.inf\n",
    "        for j in range(N2):\n",
    "            d = 0\n",
    "\t    # faster performance with square of distance\n",
    "\t    # avoid sqrt until very end\n",
    "            for k in range(data_dims):\n",
    "                d += (ar1[i, k] - ar2[j, k])**2\n",
    "            if d < cmax: # break out of `for j` loop\n",
    "                no_break_occurred = False\n",
    "                break\n",
    "\n",
    "            if d < cmin: # always true on first iteration of for-j loop\n",
    "                cmin = d\n",
    "                i_store = i\n",
    "                j_store = j\n",
    "\n",
    "        # always true on first iteration of for-j loop, after that only\n",
    "        # if d >= cmax\n",
    "        if cmin != np.inf and cmin > cmax and no_break_occurred == True:\n",
    "            cmax = cmin\n",
    "            i_ret = i_store\n",
    "            j_ret = j_store\n",
    "\n",
    "    return (np.sqrt(cmax), resort1[i_ret], resort2[j_ret])"
   ]
  },
  {
   "cell_type": "markdown",
   "metadata": {},
   "source": [
    "## bench"
   ]
  },
  {
   "cell_type": "code",
   "execution_count": 8,
   "metadata": {},
   "outputs": [],
   "source": [
    "n = 200\n",
    "args = np.arange((n * n), dtype=float).reshape(n,-1), np.ones((n,n)) * 3., 0"
   ]
  },
  {
   "cell_type": "markdown",
   "metadata": {},
   "source": [
    "## run all once to check outputs and also remove any compile time "
   ]
  },
  {
   "cell_type": "code",
   "execution_count": 9,
   "metadata": {},
   "outputs": [
    {
     "data": {
      "text/plain": [
       "(564222.3046814083, 199, 0)"
      ]
     },
     "execution_count": 9,
     "metadata": {},
     "output_type": "execute_result"
    }
   ],
   "source": [
    "directed_hausdorff_cython(*args)"
   ]
  },
  {
   "cell_type": "code",
   "execution_count": 10,
   "metadata": {},
   "outputs": [
    {
     "data": {
      "text/plain": [
       "(564222.3046814083, 199, 0)"
      ]
     },
     "execution_count": 10,
     "metadata": {},
     "output_type": "execute_result"
    }
   ],
   "source": [
    "directed_hausdorff_pythran(*args)"
   ]
  },
  {
   "cell_type": "code",
   "execution_count": 11,
   "metadata": {},
   "outputs": [
    {
     "data": {
      "text/plain": [
       "(564222.3046814083, 199, 0)"
      ]
     },
     "execution_count": 11,
     "metadata": {},
     "output_type": "execute_result"
    }
   ],
   "source": [
    "directed_hausdorff_numba(*args)"
   ]
  },
  {
   "cell_type": "code",
   "execution_count": 12,
   "metadata": {},
   "outputs": [
    {
     "name": "stdout",
     "output_type": "stream",
     "text": [
      "100 loops, best of 3: 8.66 ms per loop\n"
     ]
    }
   ],
   "source": [
    "%timeit directed_hausdorff_cython(*args)"
   ]
  },
  {
   "cell_type": "code",
   "execution_count": 13,
   "metadata": {},
   "outputs": [
    {
     "name": "stdout",
     "output_type": "stream",
     "text": [
      "100 loops, best of 3: 8.73 ms per loop\n"
     ]
    }
   ],
   "source": [
    "%timeit directed_hausdorff_pythran(*args)"
   ]
  },
  {
   "cell_type": "code",
   "execution_count": 14,
   "metadata": {},
   "outputs": [
    {
     "name": "stdout",
     "output_type": "stream",
     "text": [
      "100 loops, best of 3: 8.99 ms per loop\n"
     ]
    }
   ],
   "source": [
    "%timeit directed_hausdorff_numba(*args)"
   ]
  }
 ],
 "metadata": {
  "kernelspec": {
   "display_name": "Python 2",
   "language": "python",
   "name": "python2"
  },
  "language_info": {
   "codemirror_mode": {
    "name": "ipython",
    "version": 2
   },
   "file_extension": ".py",
   "mimetype": "text/x-python",
   "name": "python",
   "nbconvert_exporter": "python",
   "pygments_lexer": "ipython2",
   "version": "2.7.14+"
  }
 },
 "nbformat": 4,
 "nbformat_minor": 2
}
